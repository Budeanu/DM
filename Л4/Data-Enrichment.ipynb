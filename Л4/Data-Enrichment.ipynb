{
 "cells": [
  {
   "cell_type": "markdown",
   "metadata": {},
   "source": [
    "# Видобуток та збагачення структурованих даних"
   ]
  },
  {
   "cell_type": "markdown",
   "metadata": {
    "heading_collapsed": true,
    "tags": []
   },
   "source": [
    "### ТЕОРЕТИЧНА ЧАСТИНА ТА ПРИКЛАДИ"
   ]
  },
  {
   "cell_type": "markdown",
   "metadata": {
    "hidden": true
   },
   "source": [
    "Для роботи з структурованими табличними даними, які розміщені в реляційній БД [SQLite](https://www.google.com/url?sa=t&rct=j&q=&esrc=s&source=web&cd=&cad=rja&uact=8&ved=2ahUKEwiUyMOv1orvAhWDK3cKHac9DyMQFjAAegQIBxAD&url=https%3A%2F%2Fru.wikipedia.org%2Fwiki%2FSQLite&usg=AOvVaw1s-RMK2VC2tXyDZxZXDYDo) в Python передбачена стандартна бібліотека [sqlite3](https://docs.python.org/3/library/sqlite3.html)"
   ]
  },
  {
   "cell_type": "code",
   "execution_count": null,
   "metadata": {
    "hidden": true
   },
   "outputs": [],
   "source": [
    "# підключення бібліотеки\n",
    "import sqlite3"
   ]
  },
  {
   "cell_type": "markdown",
   "metadata": {
    "hidden": true
   },
   "source": [
    "#### ПРИКЛАД ВИЛУЧЕННЯ ДАНИХ З БД\n",
    "Створити БД SQLite з ім'ям `FIT-4m`, та імпорувати в неї таблицю, що містить журнал групи `jornal`"
   ]
  },
  {
   "cell_type": "code",
   "execution_count": null,
   "metadata": {
    "hidden": true
   },
   "outputs": [],
   "source": [
    "# створюємо з'єднання з БД\n",
    "conn = sqlite3.connect(\"FIT-4m.db\")"
   ]
  },
  {
   "cell_type": "markdown",
   "metadata": {
    "hidden": true
   },
   "source": [
    "[імпорт csv файла в sqlite через CLI](https://www.sqlitetutorial.net/sqlite-import-csv/) "
   ]
  },
  {
   "cell_type": "code",
   "execution_count": null,
   "metadata": {
    "hidden": true
   },
   "outputs": [],
   "source": [
    "# створюємо об'єкт `cursor`, що відповідає за реалізацію операцій з таблицями БД\n",
    "cur = conn.cursor()"
   ]
  },
  {
   "cell_type": "code",
   "execution_count": null,
   "metadata": {
    "hidden": true
   },
   "outputs": [],
   "source": [
    "print(type(cur), end='\\n\\n')\n",
    "print(dir(cur))"
   ]
  },
  {
   "cell_type": "markdown",
   "metadata": {
    "hidden": true
   },
   "source": [
    "##### виведемо ВСІ записи таблиці `jornal`"
   ]
  },
  {
   "cell_type": "code",
   "execution_count": 23,
   "metadata": {
    "code_folding": [],
    "hidden": true
   },
   "outputs": [
    {
     "ename": "NameError",
     "evalue": "name 'cur' is not defined",
     "output_type": "error",
     "traceback": [
      "\u001b[1;31m---------------------------------------------------------------------------\u001b[0m",
      "\u001b[1;31mNameError\u001b[0m                                 Traceback (most recent call last)",
      "Input \u001b[1;32mIn [23]\u001b[0m, in \u001b[0;36m<cell line: 2>\u001b[1;34m()\u001b[0m\n\u001b[0;32m      1\u001b[0m \u001b[38;5;66;03m# створимо інстанс для операції `SELECT`\u001b[39;00m\n\u001b[1;32m----> 2\u001b[0m students_cur \u001b[38;5;241m=\u001b[39m \u001b[43mcur\u001b[49m\u001b[38;5;241m.\u001b[39mexecute(\u001b[38;5;124m\"\u001b[39m\u001b[38;5;124mSELECT * FROM jornal\u001b[39m\u001b[38;5;124m\"\u001b[39m)\n\u001b[0;32m      4\u001b[0m \u001b[38;5;66;03m# будуємо список записів за допомогою метода `fetchall()`\u001b[39;00m\n\u001b[0;32m      5\u001b[0m students_list \u001b[38;5;241m=\u001b[39m students_cur\u001b[38;5;241m.\u001b[39mfetchall()\n",
      "\u001b[1;31mNameError\u001b[0m: name 'cur' is not defined"
     ]
    }
   ],
   "source": [
    "# створимо інстанс для операції `SELECT`\n",
    "students_cur = cur.execute(\"SELECT * FROM jornal\")\n",
    "\n",
    "# будуємо список записів за допомогою метода `fetchall()`\n",
    "students_list = students_cur.fetchall()\n",
    "\n",
    "_ = [print(x) for x in students_list]"
   ]
  },
  {
   "cell_type": "markdown",
   "metadata": {
    "hidden": true
   },
   "source": [
    "#### ПРИКЛАД ЗБАГАЧЕННЯ ДАНИХ З ЗОВНІШНЬОГО ДЖЕРЕЛА\n",
    "\n",
    "Додати до списка студентів їх оцінки за вступне тестування, які розташовані в csv файлі `test_result.csv`"
   ]
  },
  {
   "cell_type": "markdown",
   "metadata": {
    "hidden": true
   },
   "source": [
    "імпортуємо `test_result.csv` в робочу БД як таблицю `test`\n",
    "\n",
    "[імпорт csv файла в sqlite через CLI](https://www.sqlitetutorial.net/sqlite-import-csv/) "
   ]
  },
  {
   "cell_type": "markdown",
   "metadata": {
    "hidden": true
   },
   "source": [
    "##### Cтворимо нову таблицю, яка буде містити вміст таблиці `jornal` та поле оцінок з таблиці `test`\n",
    "\n"
   ]
  },
  {
   "cell_type": "code",
   "execution_count": null,
   "metadata": {
    "hidden": true
   },
   "outputs": [],
   "source": [
    "# створимо вираз на побудову пустої таблиці `jornal_test` з відповідними полями\n",
    "sql_stmt = \"CREATE TABLE IF NOT EXISTS jornal_test \\\n",
    "              (Surname TEXT,         \\\n",
    "               Name TEXT,            \\\n",
    "               Email TEXT,           \\\n",
    "               GitHub TEXT,          \\\n",
    "               Test_result INT);\"\n",
    "\n",
    "# виконаемо запит на створення таблиці\n",
    "cur.execute(sql_stmt)"
   ]
  },
  {
   "cell_type": "code",
   "execution_count": null,
   "metadata": {
    "hidden": true
   },
   "outputs": [],
   "source": [
    "# перевіримо стан виконання операції - виведемо список таблиць\n",
    "tables_list = cur.execute(\"SELECT name FROM sqlite_master WHERE type = 'table';\")\n",
    "tables_list.fetchall()"
   ]
  },
  {
   "cell_type": "code",
   "execution_count": null,
   "metadata": {
    "hidden": true
   },
   "outputs": [],
   "source": [
    "# створимо запит на об'єднання таблиць 'jornal' та 'test' по прізвищу студента\n",
    "sql_stmt = \"SELECT jornal.*, test_result.test FROM  \\\n",
    "            jornal LEFT JOIN test_result ON jornal.Surname = test_result.Surname \""
   ]
  },
  {
   "cell_type": "code",
   "execution_count": null,
   "metadata": {
    "hidden": true
   },
   "outputs": [],
   "source": [
    "# для перевірки виконаємо і виведемо результати запиту\n",
    "cur.execute(sql_stmt).fetchmany(7)"
   ]
  },
  {
   "cell_type": "code",
   "execution_count": null,
   "metadata": {
    "hidden": true
   },
   "outputs": [],
   "source": [
    "# заповнимо пусту таблицю результатми  запиту на злиття\n",
    "_ = cur.execute(\"INSERT INTO jornal_test \" + sql_stmt)"
   ]
  },
  {
   "cell_type": "code",
   "execution_count": null,
   "metadata": {
    "hidden": true
   },
   "outputs": [],
   "source": [
    "# збережемо вміст нової таблиці в список\n",
    "jornal_test_list = cur.execute(\"SELECT * FROM jornal_test\").fetchall()\n",
    "\n",
    "_ = [print(x) for x in jornal_test_list]"
   ]
  },
  {
   "cell_type": "code",
   "execution_count": null,
   "metadata": {
    "hidden": true
   },
   "outputs": [],
   "source": [
    "# завершимо всі транзакції\n",
    "conn.commit()\n",
    "\n",
    "# закріємо з'єднання\n",
    "conn.close()"
   ]
  },
  {
   "cell_type": "markdown",
   "metadata": {
    "hidden": true
   },
   "source": [
    "#### ПРИКЛАД  ДЕСКРИПТИВНОГО АНАЛІЗУ ДАНИХ\n",
    "\n",
    "Провести [попередній аналіз](https://ru.wikipedia.org/wiki/Описательная_статистика) отриманих даних з ціллю виявленя відхилень, помилок та інших непридатних даних."
   ]
  },
  {
   "cell_type": "markdown",
   "metadata": {
    "hidden": true
   },
   "source": [
    "Сведемо результати аналізу в таблицю, яка має наступний вигляд:\n",
    "\n",
    "№| Показчик | Значення\n",
    ":--:|:-------|-------:\n",
    "1| кількість спостережень | xx \n",
    "2| кількість пустих значень | xx\n",
    "4| середній бал|  xx.x\n",
    "5| максимальний бал | xx\n",
    "6| мінімальний бал  | xx\n",
    "7| стандартне відхилення | xx.x\n",
    "8| розмах вариації  | xx\n"
   ]
  },
  {
   "cell_type": "code",
   "execution_count": null,
   "metadata": {
    "hidden": true
   },
   "outputs": [],
   "source": [
    "# підключимо бібліотеку 'numpy' і дамо їй аліас 'np'\n",
    "import numpy as np"
   ]
  },
  {
   "cell_type": "markdown",
   "metadata": {
    "hidden": true
   },
   "source": [
    "ознайомитись з призначенням, можливостями та основним функціями [бібліотеки numpy](https://numpy.org) "
   ]
  },
  {
   "cell_type": "code",
   "execution_count": null,
   "metadata": {
    "hidden": true
   },
   "outputs": [],
   "source": [
    "# перетворимо список студетів в numpay матрицю\n",
    "jornal_test_arr = np.array(jornal_test_list)"
   ]
  },
  {
   "cell_type": "code",
   "execution_count": null,
   "metadata": {
    "hidden": true,
    "scrolled": true
   },
   "outputs": [],
   "source": [
    "print(type (jornal_test_arr), jornal_test_arr.shape)"
   ]
  },
  {
   "cell_type": "code",
   "execution_count": null,
   "metadata": {
    "hidden": true
   },
   "outputs": [],
   "source": [
    "# створимо масив с результатами тестів \n",
    "test_result = np.delete(jornal_test_arr, [1,2,3], axis=1)"
   ]
  },
  {
   "cell_type": "code",
   "execution_count": null,
   "metadata": {
    "hidden": true
   },
   "outputs": [],
   "source": [
    "# Значення 'None' - не є числом, то заміним його на 0\n",
    "test_result[test_result == None] = 0"
   ]
  },
  {
   "cell_type": "code",
   "execution_count": null,
   "metadata": {
    "hidden": true
   },
   "outputs": [],
   "source": [
    "# залишити тільки статистично важливі показчики\n",
    "test_result = np.delete(test_result, 0, axis=1)"
   ]
  },
  {
   "cell_type": "code",
   "execution_count": null,
   "metadata": {
    "hidden": true,
    "run_control": {
     "marked": false
    }
   },
   "outputs": [],
   "source": [
    "# будуємо словник з вихідними розрахунками\n",
    "result_dict = {\n",
    "    \"кількість спостережень\"   : len(test_result),\n",
    "    \"кількість пустих значень\" : len(test_result) - np.count_nonzero(test_result),\n",
    "    \"середній бал\"             : round(np.mean(test_result),1),\n",
    "    \"максимальний бал\"         : np.max(test_result),\n",
    "    \"мінімальний бал\"          : np.min(test_result[np.nonzero(test_result)]),\n",
    "    \"стандартне відхилення\"    : round(np.std(test_result),1),\n",
    "    \"розмах вариації\"          : np.max(test_result) - np.min(test_result[np.nonzero(test_result)]) \n",
    "    }"
   ]
  },
  {
   "cell_type": "code",
   "execution_count": 19,
   "metadata": {
    "hidden": true
   },
   "outputs": [
    {
     "ename": "NameError",
     "evalue": "name 'result_dict' is not defined",
     "output_type": "error",
     "traceback": [
      "\u001b[1;31m---------------------------------------------------------------------------\u001b[0m",
      "\u001b[1;31mNameError\u001b[0m                                 Traceback (most recent call last)",
      "Input \u001b[1;32mIn [19]\u001b[0m, in \u001b[0;36m<cell line: 1>\u001b[1;34m()\u001b[0m\n\u001b[1;32m----> 1\u001b[0m \u001b[43mresult_dict\u001b[49m\n",
      "\u001b[1;31mNameError\u001b[0m: name 'result_dict' is not defined"
     ]
    }
   ],
   "source": [
    "result_dict"
   ]
  },
  {
   "cell_type": "code",
   "execution_count": 18,
   "metadata": {
    "code_folding": [],
    "hidden": true
   },
   "outputs": [
    {
     "name": "stdout",
     "output_type": "stream",
     "text": [
      "\n",
      "=======================================\n",
      "№  : ПОКАЗЧИК               : ЗНАЧЕННЯ     \n",
      "=======================================\n",
      "\n"
     ]
    },
    {
     "ename": "NameError",
     "evalue": "name 'result_dict' is not defined",
     "output_type": "error",
     "traceback": [
      "\u001b[1;31m---------------------------------------------------------------------------\u001b[0m",
      "\u001b[1;31mNameError\u001b[0m                                 Traceback (most recent call last)",
      "Input \u001b[1;32mIn [18]\u001b[0m, in \u001b[0;36m<cell line: 12>\u001b[1;34m()\u001b[0m\n\u001b[0;32m     10\u001b[0m \u001b[38;5;66;03m# вивести результати аналізу датасета\u001b[39;00m\n\u001b[0;32m     11\u001b[0m i \u001b[38;5;241m=\u001b[39m \u001b[38;5;241m1\u001b[39m\n\u001b[1;32m---> 12\u001b[0m \u001b[38;5;28;01mfor\u001b[39;00m key, value \u001b[38;5;129;01min\u001b[39;00m \u001b[43mresult_dict\u001b[49m\u001b[38;5;241m.\u001b[39mitems():\n\u001b[0;32m     13\u001b[0m     \u001b[38;5;28mprint\u001b[39m (\u001b[38;5;124mf\u001b[39m\u001b[38;5;124m'\u001b[39m\u001b[38;5;132;01m{\u001b[39;00mi\u001b[38;5;132;01m:\u001b[39;00m\u001b[38;5;124m<3\u001b[39m\u001b[38;5;132;01m}\u001b[39;00m\u001b[38;5;124m \u001b[39m\u001b[38;5;132;01m{\u001b[39;00mkey\u001b[38;5;132;01m:\u001b[39;00m\u001b[38;5;124m<25\u001b[39m\u001b[38;5;132;01m}\u001b[39;00m\u001b[38;5;124m  \u001b[39m\u001b[38;5;132;01m{\u001b[39;00mvalue\u001b[38;5;132;01m}\u001b[39;00m\u001b[38;5;124m'\u001b[39m)\n\u001b[0;32m     14\u001b[0m     i \u001b[38;5;241m+\u001b[39m\u001b[38;5;241m=\u001b[39m \u001b[38;5;241m1\u001b[39m\n",
      "\u001b[1;31mNameError\u001b[0m: name 'result_dict' is not defined"
     ]
    }
   ],
   "source": [
    "# вивести шапку\n",
    "print(\n",
    "\"\"\"\n",
    "=======================================\n",
    "№  : ПОКАЗЧИК               : ЗНАЧЕННЯ     \n",
    "=======================================\n",
    "\"\"\"      \n",
    "      )\n",
    "\n",
    "# вивести результати аналізу датасета\n",
    "i = 1\n",
    "for key, value in result_dict.items():\n",
    "    print (f'{i:<3} {key:<25}  {value}')\n",
    "    i += 1"
   ]
  },
  {
   "cell_type": "markdown",
   "metadata": {
    "heading_collapsed": true,
    "tags": []
   },
   "source": [
    "### ІНДИВІДУАЛЬНЕ ЗАВДАННЯ"
   ]
  },
  {
   "cell_type": "markdown",
   "metadata": {
    "hidden": true
   },
   "source": [
    "Користуючись результатами, що отримані в [Лабораторній роботі № 3](https://shkliarskiy.moodlecloud.com/mod/page/view.php?id=1193) виконати процедури видобутку, збагачення та попереднього аналізу даних.\n",
    "\n",
    "__Постановка__: В 3-й лабораторній роботі отримано показчик, що характеризує окрему властивість квартири (ціна, метраж та ін.). \n",
    "Необхідно:\n",
    "1. Відобразити цей показчик на адресу квартири, яка знаходиться в файлі `street_name.csv`, тобто побудувати новий файл `street_flat_propery.csv` якій містить 2 колонки: _<назва вулиці> <ваш показчик>_\n",
    "2. На основі цьго файлу зробити відповідну таблицю в _SQLite_ та збагатити цю дані в цій таблиці назвою району де розташована квартира (дані по районах додаються) \n",
    "3. Провести попередній аналіз отриманих даних - вивести первинні статистики показчика по районах (_середне_ , _мінімальне_ , _максимальне_ і т.д. - див. приклад вище)"
   ]
  },
  {
   "cell_type": "code",
   "execution_count": 22,
   "metadata": {
    "hidden": true,
    "run_control": {
     "marked": true
    }
   },
   "outputs": [
    {
     "ename": "NameError",
     "evalue": "name 'cur' is not defined",
     "output_type": "error",
     "traceback": [
      "\u001b[1;31m---------------------------------------------------------------------------\u001b[0m",
      "\u001b[1;31mNameError\u001b[0m                                 Traceback (most recent call last)",
      "Input \u001b[1;32mIn [22]\u001b[0m, in \u001b[0;36m<cell line: 34>\u001b[1;34m()\u001b[0m\n\u001b[0;32m     29\u001b[0m                 result\u001b[38;5;241m+\u001b[39m\u001b[38;5;241m=\u001b[39m f2_splited[\u001b[38;5;241m0\u001b[39m] \u001b[38;5;241m+\u001b[39m \u001b[38;5;124m\"\u001b[39m\u001b[38;5;124m,\u001b[39m\u001b[38;5;124m\"\u001b[39m\n\u001b[0;32m     31\u001b[0m         f3\u001b[38;5;241m.\u001b[39mwrite(result[:\u001b[38;5;241m-\u001b[39m\u001b[38;5;241m1\u001b[39m] \u001b[38;5;241m+\u001b[39m \u001b[38;5;124m'\u001b[39m\u001b[38;5;130;01m\\n\u001b[39;00m\u001b[38;5;124m'\u001b[39m)\n\u001b[1;32m---> 34\u001b[0m jornal_test_list \u001b[38;5;241m=\u001b[39m \u001b[43mcur\u001b[49m\u001b[38;5;241m.\u001b[39mexecute(\u001b[38;5;124m\"\u001b[39m\u001b[38;5;124mSELECT * from street_flat_propery\u001b[39m\u001b[38;5;124m\"\u001b[39m)\n\u001b[0;32m     35\u001b[0m jornal_test_list \u001b[38;5;241m=\u001b[39m students_cur\u001b[38;5;241m.\u001b[39mfetchall()\n\u001b[0;32m     36\u001b[0m jornal_test_arr \u001b[38;5;241m=\u001b[39m np\u001b[38;5;241m.\u001b[39marray(jornal_test_list)\n",
      "\u001b[1;31mNameError\u001b[0m: name 'cur' is not defined"
     ]
    }
   ],
   "source": [
    "# Злиття файлу з показчиком та файлу з назвами вулиць в новий файл\n",
    "import os\n",
    "import numpy as np\n",
    "\n",
    "path = 'D:\\DM\\L4\\Data'\n",
    "filenames = []\n",
    "\n",
    "for root, dirs, files in os.walk(path): \n",
    "    for file in files:  \n",
    "        filenames.append(path +  \"\\\\\" + file)\n",
    "\n",
    "with open('street_name.csv', 'r', encoding='utf-8') as f1, \\\n",
    "    open('street_flat_propery.csv', 'w') as f3:     \n",
    "    f1_lines = f1.readlines()\n",
    "    for line_index in range (0, len(f1_lines)):     \n",
    "        element = f1_lines[line_index].split()   \n",
    "\n",
    "        if(not element or element[0] == '***'):\n",
    "            result = \"No street name\" + \",\"\n",
    "        else:\n",
    "            f1_splited = f1_lines[line_index].split()\n",
    "            result = f1_splited[0] + \",\" \n",
    "\n",
    "        for fname in filenames:\n",
    "            with open(fname) as f2:\n",
    "                f2_lines = f2.readlines()\n",
    "                f2_splited = f2_lines[line_index].split()\n",
    "\n",
    "                result+= f2_splited[0] + \",\"\n",
    "                                                \n",
    "        f3.write(result[:-1] + '\\n')\n",
    "        \n",
    "        \n",
    "jornal_test_list = cur.execute(\"SELECT * from street_flat_propery\")\n",
    "jornal_test_list = students_cur.fetchall()\n",
    "jornal_test_arr = np.array(jornal_test_list)\n",
    "\n",
    "x_result = np.delete(jornal_test_arr, [0], axis=1)\n",
    "\n",
    "length = x_result.shape\n",
    "\n",
    "for j in range(0, length[1]):\n",
    "    test_result = x_result[:,j].astype(float)\n",
    "    \n",
    "    result_dict = {\n",
    "    \"кількість спостережень\"   : len(test_result),\n",
    "    \"кількість пустих значень\" : len(test_result) - np.count_nonzero(test_result),\n",
    "    \"середній бал\"             : round(np.mean(test_result),1),\n",
    "    \"максимальний бал\"         : np.max(test_result),\n",
    "    \"мінімальний бал\"          : np.min(test_result[np.nonzero(test_result)]),\n",
    "    \"стандартне відхилення\"    : round(np.std(test_result),1),\n",
    "    \"розмах вариації\"          : np.max(test_result) - np.min(test_result[np.nonzero(test_result)]) \n",
    "    }\n",
    "    \n",
    "    columns_names = cur.execute(\"PRAGMA table_info('street_flat_propery')\").fetchall()\n",
    "    print(\"Назва таблиці: \" + columns_names[j][1])\n",
    "    \n",
    "    print(\n",
    "\"\"\"\n",
    "=======================================\n",
    "№  : ПОКАЗЧИК               : ЗНАЧЕННЯ     \n",
    "=======================================\n",
    "\"\"\"      \n",
    "      )\n",
    "\n",
    "    i = 1\n",
    "    for key, value in result_dict.items():\n",
    "        print (f'{i:<3} {key:<25}  {value}')\n",
    "        i += 1\n",
    "    print('\\n')"
   ]
  },
  {
   "cell_type": "markdown",
   "metadata": {
    "hidden": true
   },
   "source": [
    "#### імпортувати в БД отриманий файл 'street_flat_propery.csv' через CLI\n",
    "- __sqlite3 districts.db__ - запустити SQLite та відкрити БД\n",
    "- __.mode csv__ - перевести БД для роботи з csv-файлами\n",
    "- __.import street_flat_propery.csv street_flat_propery__ - створює таблицю _street_flat_propery_ та завантажує в неї вміст файлу _street_flat_propery.csv_\n",
    "- __SELECT * FROM street_flat_propery LIMIT 10;__ - вивести 10 записів для перевірки\n",
    "- __.quit__ - завершити роботу з CLI SQLite\n",
    "\n"
   ]
  },
  {
   "cell_type": "code",
   "execution_count": null,
   "metadata": {
    "hidden": true,
    "run_control": {
     "marked": true
    }
   },
   "outputs": [],
   "source": [
    "# Підключитись до БД 'districts.db' в якій є прив'язка вулиць до районів \n",
    "conn = напишить код ...\n",
    "\n",
    "# створити відповідний курсор\n",
    "cur  = напишить код ..."
   ]
  },
  {
   "cell_type": "code",
   "execution_count": null,
   "metadata": {
    "hidden": true,
    "run_control": {
     "marked": true
    }
   },
   "outputs": [],
   "source": [
    "# для перевірки виведіть 10 записів з таблиці 'street_district'\n",
    "напишить код ..."
   ]
  },
  {
   "cell_type": "code",
   "execution_count": null,
   "metadata": {
    "hidden": true,
    "run_control": {
     "marked": true
    }
   },
   "outputs": [],
   "source": [
    "# побудувати запит на створення таблиці 'result' з 3-ма полями:\n",
    "#     district - текстове\n",
    "#     street - текстове\n",
    "#     property - числове\n",
    "stmt = напишить код ..."
   ]
  },
  {
   "cell_type": "code",
   "execution_count": null,
   "metadata": {
    "hidden": true
   },
   "outputs": [],
   "source": [
    "# виконати запит\n",
    "cur.execute(stmt)"
   ]
  },
  {
   "cell_type": "code",
   "execution_count": null,
   "metadata": {
    "hidden": true
   },
   "outputs": [],
   "source": [
    "# перевірити схему таблиці\n",
    "cur.execute (\"SELECT name FROM PRAGMA_TABLE_INFO('result');\").fetchall()"
   ]
  },
  {
   "cell_type": "code",
   "execution_count": null,
   "metadata": {
    "code_folding": [],
    "hidden": true,
    "run_control": {
     "marked": true
    }
   },
   "outputs": [],
   "source": [
    "# створити запит на злиття таблиці 'street_flat_propery' та 'street_district' \n",
    "# по полю 'street'\n",
    "stmt_join = напишить код ..."
   ]
  },
  {
   "cell_type": "code",
   "execution_count": null,
   "metadata": {
    "hidden": true
   },
   "outputs": [],
   "source": [
    "# перевірити запит\n",
    "cur.execute(stmt_join).fetchall()"
   ]
  },
  {
   "cell_type": "code",
   "execution_count": null,
   "metadata": {
    "hidden": true,
    "run_control": {
     "marked": true
    }
   },
   "outputs": [],
   "source": [
    "# створити запит для наповнення таблиці `result` результатом запиту на об'єднання\n",
    "stmt_insert = напишить код .."
   ]
  },
  {
   "cell_type": "code",
   "execution_count": null,
   "metadata": {
    "hidden": true
   },
   "outputs": [],
   "source": [
    "# виконати запит на заповнення\n",
    "cur.execute(stmt_insert)"
   ]
  },
  {
   "cell_type": "code",
   "execution_count": null,
   "metadata": {
    "hidden": true,
    "run_control": {
     "marked": true
    }
   },
   "outputs": [],
   "source": [
    "# сберегти вміст створеної таблиці у вигляді списка\n",
    "result_list = напишить код ..."
   ]
  },
  {
   "cell_type": "markdown",
   "metadata": {
    "hidden": true
   },
   "source": [
    "#### для аналізу скористатися бібліотекою NumPy"
   ]
  },
  {
   "cell_type": "code",
   "execution_count": null,
   "metadata": {
    "hidden": true
   },
   "outputs": [],
   "source": [
    "import numpy as np"
   ]
  },
  {
   "cell_type": "code",
   "execution_count": null,
   "metadata": {
    "hidden": true,
    "run_control": {
     "marked": true
    }
   },
   "outputs": [],
   "source": [
    "# створити np-масив з списку `result_list`\n",
    "result_arr = напишить код ..."
   ]
  },
  {
   "cell_type": "code",
   "execution_count": null,
   "metadata": {
    "hidden": true,
    "run_control": {
     "marked": true
    }
   },
   "outputs": [],
   "source": [
    "# побудувати словник для результатів аналізу\n",
    "result_dict = {\n",
    "    \"кількість спостережень\"   : напишить код ... ,\n",
    "    \"середнє значення\"         : напишить код ... ,\n",
    "    \"максимальне значення\"     : напишить код ... ,\n",
    "    \"мінімальне значення\"      : напишить код ... ,\n",
    "    \"стандартне відхилення\"    : напишить код ... ,\n",
    "    \"розмах вариації\"          : напишить код ...\n",
    "    }"
   ]
  },
  {
   "cell_type": "code",
   "execution_count": 19,
   "metadata": {
    "hidden": true,
    "run_control": {
     "marked": true
    }
   },
   "outputs": [
    {
     "ename": "NameError",
     "evalue": "name 'cur' is not defined",
     "output_type": "error",
     "traceback": [
      "\u001b[1;31m---------------------------------------------------------------------------\u001b[0m",
      "\u001b[1;31mNameError\u001b[0m                                 Traceback (most recent call last)",
      "Input \u001b[1;32mIn [19]\u001b[0m, in \u001b[0;36m<cell line: 3>\u001b[1;34m()\u001b[0m\n\u001b[0;32m      1\u001b[0m \u001b[38;5;66;03m# вивести результати аналізу датасета\u001b[39;00m\n\u001b[1;32m----> 3\u001b[0m disctricts_list \u001b[38;5;241m=\u001b[39m \u001b[43mcur\u001b[49m\u001b[38;5;241m.\u001b[39mexecute(\u001b[38;5;124m\"\u001b[39m\u001b[38;5;124mSELECT DISTINCT district FROM street_result\u001b[39m\u001b[38;5;124m\"\u001b[39m)\u001b[38;5;241m.\u001b[39mfetchall()\n\u001b[0;32m      4\u001b[0m \u001b[38;5;28;01mfor\u001b[39;00m i \u001b[38;5;129;01min\u001b[39;00m \u001b[38;5;28mrange\u001b[39m(\u001b[38;5;28mlen\u001b[39m(disctricts_list)):\n\u001b[0;32m      5\u001b[0m     values \u001b[38;5;241m=\u001b[39m disctricts_list[i]\n",
      "\u001b[1;31mNameError\u001b[0m: name 'cur' is not defined"
     ]
    }
   ],
   "source": [
    "\n",
    "\n",
    "# вивести результати аналізу датасета\n",
    "\n",
    "disctricts_list = cur.execute(\"SELECT DISTINCT district FROM street_result\").fetchall()\n",
    "for i in range(len(disctricts_list)):\n",
    "    values = disctricts_list[i]\n",
    "    district = values[0]   \n",
    "    \n",
    "    jornal_test_list = cur.execute(\"SELECT * from street_result WHERE district = ?\", (district,)).fetchall()    \n",
    "    jornal_test_arr = np.array(jornal_test_list)\n",
    "    \n",
    "    if(len(jornal_test_arr) == 0):\n",
    "        continue\n",
    "        \n",
    "    x_result = np.delete(jornal_test_arr, [0,9,10], axis=1)\n",
    "    \n",
    "    length = x_result.shape\n",
    "    columns_count = length[1]\n",
    "    \n",
    "    print(\"Назва району: \" + district + '\\n')\n",
    "    \n",
    "    for j in range(0, length[1]):\n",
    "        test_result = x_result[:,j].astype(float)        \n",
    "        try:\n",
    "            result_dict = {\n",
    "    \"кількість спостережень\"   : len(test_result),\n",
    "    \"кількість пустих значень\" : len(test_result) - np.count_nonzero(test_result),\n",
    "    \"середній бал\"             : round(np.mean(test_result),1),\n",
    "    \"максимальний бал\"         : np.max(test_result),\n",
    "    \"мінімальний бал\"          : np.min(test_result[np.nonzero(test_result)]) ,\n",
    "    \"стандартне відхилення\"    : round(np.std(test_result),1),\n",
    "    \"розмах вариації\"          : np.max(test_result) - np.min(test_result[np.nonzero(test_result)]) \n",
    "    }\n",
    "        \n",
    "        except ValueError: \"Empty\"\n",
    "        pass\n",
    "    \n",
    "        columns_names = cur.execute(\"PRAGMA table_info('street_flat_propery')\").fetchall()\n",
    "        \n",
    "        print(\"Назва поля: \" + columns_names[j + 1][1])\n",
    "        \n",
    "        print(\n",
    "\"\"\"\n",
    "=======================================\n",
    "№  : ПОКАЗЧИК               : ЗНАЧЕННЯ     \n",
    "=======================================\n",
    "\"\"\"      \n",
    "      )\n",
    "    \n",
    "    \n",
    "\n",
    "        k = 1\n",
    "        for key, value in result_dict.items():\n",
    "            print (f'{k:<3} {key:<25}  {value}')\n",
    "            k += 1     \n",
    "        \n",
    "        print('\\n')\n",
    "        \n",
    "    "
   ]
  },
  {
   "cell_type": "code",
   "execution_count": null,
   "metadata": {
    "hidden": true
   },
   "outputs": [],
   "source": []
  }
 ],
 "metadata": {
  "kernelspec": {
   "display_name": "Python 3 (ipykernel)",
   "language": "python",
   "name": "python3"
  },
  "language_info": {
   "codemirror_mode": {
    "name": "ipython",
    "version": 3
   },
   "file_extension": ".py",
   "mimetype": "text/x-python",
   "name": "python",
   "nbconvert_exporter": "python",
   "pygments_lexer": "ipython3",
   "version": "3.9.12"
  },
  "varInspector": {
   "cols": {
    "lenName": 16,
    "lenType": 16,
    "lenVar": 40
   },
   "kernels_config": {
    "python": {
     "delete_cmd_postfix": "",
     "delete_cmd_prefix": "del ",
     "library": "var_list.py",
     "varRefreshCmd": "print(var_dic_list())"
    },
    "r": {
     "delete_cmd_postfix": ") ",
     "delete_cmd_prefix": "rm(",
     "library": "var_list.r",
     "varRefreshCmd": "cat(var_dic_list()) "
    }
   },
   "types_to_exclude": [
    "module",
    "function",
    "builtin_function_or_method",
    "instance",
    "_Feature"
   ],
   "window_display": false
  }
 },
 "nbformat": 4,
 "nbformat_minor": 4
}
