{
 "cells": [
  {
   "cell_type": "markdown",
   "metadata": {},
   "source": [
    "# Технології ETL з бібліотекою `scikit-learn`"
   ]
  },
  {
   "cell_type": "markdown",
   "metadata": {
    "heading_collapsed": true
   },
   "source": [
    "## УВЕДЕННЯ В SCIKIT-LEARN"
   ]
  },
  {
   "cell_type": "markdown",
   "metadata": {
    "heading_collapsed": true,
    "hidden": true
   },
   "source": [
    "### Загальна інформація"
   ]
  },
  {
   "cell_type": "markdown",
   "metadata": {
    "hidden": true
   },
   "source": [
    "Розроблено для побудови та аналізу класичних моделей машинного навчання [(Докладніше)](https://en.wikipedia.org/wiki/Scikit-learn)\n",
    "- [Офіційний сайт](https://scikit-learn.org/stable/)\n",
    "- [Сайт на GitHub](https://github.com/scikit-learn/scikit-learn)\n",
    "\n",
    "Альтернативи:\n",
    "- [Tensorflow](https://www.tensorflow.org)\n",
    "- [Pytorch](https://pytorch.org)\n",
    "- [Keras](https://keras.io) ...\n",
    "\n",
    "Доступна через [API](https://scikit-learn.org/stable/modules/classes.html#) з мови Python (або С/С++)"
   ]
  },
  {
   "cell_type": "markdown",
   "metadata": {
    "hidden": true
   },
   "source": [
    "### Інструментарій для роботи з данними"
   ]
  },
  {
   "cell_type": "markdown",
   "metadata": {
    "hidden": true
   },
   "source": [
    "Має потужні інструменти для [Data Transformation](https://scikit-learn.org/stable/data_transforms.html#data-transforms)\n",
    "\n",
    "Автоматизують наступні функції\n",
    "- [очищення](https://scikit-learn.org/stable/modules/unsupervised_reduction.html)\n",
    "- [вилучення](https://scikit-learn.org/stable/modules/feature_extraction.html)\n",
    "- [збагачення](https://scikit-learn.org/stable/modules/impute.html)\n",
    "- [предобробка](https://scikit-learn.org/stable/modules/preprocessing.html)\n",
    "\n",
    "Для інтеграції цих (та інших) процесів передбачена [`конвереїзація`](https://scikit-learn.org/stable/modules/compose.html)\n"
   ]
  },
  {
   "cell_type": "markdown",
   "metadata": {
    "heading_collapsed": true
   },
   "source": [
    "## ТЕОРЕТИЧНА ЧАСТИНА ТА ПРИКЛАДИ"
   ]
  },
  {
   "cell_type": "markdown",
   "metadata": {
    "hidden": true
   },
   "source": [
    "### для проведення експеріментів та перевірки гіпотез в `scilearn` є модуль моделювання датасетів [sklearn.datasets](https://scikit-learn.org/stable/modules/classes.html#module-sklearn.datasets)"
   ]
  },
  {
   "cell_type": "code",
   "execution_count": null,
   "metadata": {
    "hidden": true
   },
   "outputs": [],
   "source": [
    "from sklearn import datasets\n",
    "import pandas as pd\n",
    "import numpy as np"
   ]
  },
  {
   "cell_type": "code",
   "execution_count": null,
   "metadata": {
    "hidden": true
   },
   "outputs": [],
   "source": [
    "wine_bunch = datasets.load_wine(as_frame=True)"
   ]
  },
  {
   "cell_type": "code",
   "execution_count": null,
   "metadata": {
    "hidden": true
   },
   "outputs": [],
   "source": [
    "df = wine_bunch['frame']"
   ]
  },
  {
   "cell_type": "code",
   "execution_count": null,
   "metadata": {
    "hidden": true
   },
   "outputs": [],
   "source": [
    "df.head()"
   ]
  },
  {
   "cell_type": "code",
   "execution_count": null,
   "metadata": {
    "hidden": true
   },
   "outputs": [],
   "source": [
    "df.describe()"
   ]
  },
  {
   "cell_type": "code",
   "execution_count": null,
   "metadata": {
    "hidden": true
   },
   "outputs": [],
   "source": [
    "df.loc[df['target'] == 0,'target'] = 'west'\n",
    "df.loc[df['target'] == 1,'target'] = 'east'\n",
    "df.loc[df['target'] == 2,'target'] = 'nord'"
   ]
  },
  {
   "cell_type": "code",
   "execution_count": null,
   "metadata": {
    "hidden": true
   },
   "outputs": [],
   "source": [
    "df['target'].unique()"
   ]
  },
  {
   "cell_type": "code",
   "execution_count": null,
   "metadata": {
    "hidden": true
   },
   "outputs": [],
   "source": [
    "df.rename(columns={'target': 'region'}, inplace=True)\n",
    "df.columns"
   ]
  },
  {
   "cell_type": "code",
   "execution_count": null,
   "metadata": {
    "hidden": true
   },
   "outputs": [],
   "source": [
    "X, y = df.drop(columns=['alcohol']), df['alcohol']"
   ]
  },
  {
   "cell_type": "code",
   "execution_count": null,
   "metadata": {
    "hidden": true
   },
   "outputs": [],
   "source": [
    "X.head(3)"
   ]
  },
  {
   "cell_type": "markdown",
   "metadata": {
    "heading_collapsed": true,
    "hidden": true
   },
   "source": [
    "### додамо синтетичний `шум' "
   ]
  },
  {
   "cell_type": "code",
   "execution_count": null,
   "metadata": {
    "hidden": true
   },
   "outputs": [],
   "source": [
    "from add_noise import add_feauture_err"
   ]
  },
  {
   "cell_type": "code",
   "execution_count": null,
   "metadata": {
    "hidden": true
   },
   "outputs": [],
   "source": [
    "# деякі значення можуть бути пропущені\n",
    "X = add_feauture_err(df=X, column_name='region', err_level=.05, err_filler=np.nan)\n",
    "X = add_feauture_err(df=X, column_name='color_intensity', err_level=.10, err_filler=np.nan)\n",
    "\n",
    "# або вочевидь невірні\n",
    "X = add_feauture_err(df=X, column_name='magnesium', err_level=.05, err_filler=100000.0)"
   ]
  },
  {
   "cell_type": "code",
   "execution_count": null,
   "metadata": {
    "hidden": true
   },
   "outputs": [],
   "source": [
    "X.describe()"
   ]
  },
  {
   "cell_type": "code",
   "execution_count": null,
   "metadata": {
    "hidden": true
   },
   "outputs": [],
   "source": [
    "X.info()"
   ]
  },
  {
   "cell_type": "markdown",
   "metadata": {
    "hidden": true
   },
   "source": [
    "### ПОШУК ТА ОБРОБКА ВИКИДІВ (Outliers/Anomaly Detection)"
   ]
  },
  {
   "cell_type": "markdown",
   "metadata": {
    "hidden": true
   },
   "source": [
    "В продашені та на великих об'ємах використовується алгоритм __LOF__ ([_Local Outlier Factor_](https://scikit-learn.org/stable/auto_examples/neighbors/plot_lof_outlier_detection.html))"
   ]
  },
  {
   "cell_type": "code",
   "execution_count": null,
   "metadata": {
    "hidden": true
   },
   "outputs": [],
   "source": [
    "mean_std = X.describe().loc[['mean', 'std']].T"
   ]
  },
  {
   "cell_type": "code",
   "execution_count": null,
   "metadata": {
    "hidden": true
   },
   "outputs": [],
   "source": [
    "mean_std"
   ]
  },
  {
   "cell_type": "code",
   "execution_count": null,
   "metadata": {
    "hidden": true
   },
   "outputs": [],
   "source": [
    "mean_std['std_minus_mean'] = mean_std['std'] - mean_std['mean']\n",
    "mean_std"
   ]
  },
  {
   "cell_type": "code",
   "execution_count": null,
   "metadata": {
    "hidden": true
   },
   "outputs": [],
   "source": [
    "# використаємо правило 2-х сігм для показчика `magnesium`\n",
    "two_sigma = 2 * mean_std.loc['magnesium']['std']\n",
    "two_sigma"
   ]
  },
  {
   "cell_type": "code",
   "execution_count": null,
   "metadata": {
    "hidden": true
   },
   "outputs": [],
   "source": [
    "# замінити всі значення `magnesium` на медіану \n",
    "X.loc[df['magnesium'] > two_sigma] = np.median(X['magnesium'])"
   ]
  },
  {
   "cell_type": "markdown",
   "metadata": {
    "hidden": true
   },
   "source": [
    "### заміщення пропусків\n",
    "\n",
    "[Детальніше](https://scikit-learn.org/stable/modules/impute.html)"
   ]
  },
  {
   "cell_type": "code",
   "execution_count": null,
   "metadata": {
    "hidden": true
   },
   "outputs": [],
   "source": [
    "X.describe().loc['count']"
   ]
  },
  {
   "cell_type": "code",
   "execution_count": null,
   "metadata": {
    "hidden": true
   },
   "outputs": [],
   "source": [
    "X['color_intensity'].isna()"
   ]
  },
  {
   "cell_type": "code",
   "execution_count": null,
   "metadata": {
    "hidden": true
   },
   "outputs": [],
   "source": [
    "# замінимо NaN на медіану\n",
    "X['color_intensity'].fillna(value=X['color_intensity'].median(), inplace=True)"
   ]
  },
  {
   "cell_type": "code",
   "execution_count": null,
   "metadata": {
    "hidden": true
   },
   "outputs": [],
   "source": [
    "# для строкового показчика - замінимо найближчим\n",
    "X['region'].fillna(method='bfill', inplace=True)"
   ]
  },
  {
   "cell_type": "code",
   "execution_count": null,
   "metadata": {
    "hidden": true,
    "scrolled": true
   },
   "outputs": [],
   "source": [
    "X.info()"
   ]
  },
  {
   "cell_type": "markdown",
   "metadata": {
    "hidden": true
   },
   "source": [
    "### Стандартизація та масштабування числових показчиків\n",
    "\n",
    "[Докладніше](https://scikit-learn.org/stable/modules/preprocessing.html#standardization-or-mean-removal-and-variance-scaling)"
   ]
  },
  {
   "cell_type": "code",
   "execution_count": null,
   "metadata": {
    "hidden": true
   },
   "outputs": [],
   "source": [
    "# відбір показчиків за їх типом\n",
    "from sklearn.compose import make_column_selector\n",
    "numeric_columns_selector = make_column_selector(dtype_include='float64')\n",
    "X_numeric_columns = numeric_columns_selector(X)\n",
    "X_numeric_columns"
   ]
  },
  {
   "cell_type": "code",
   "execution_count": null,
   "metadata": {
    "hidden": true,
    "scrolled": true
   },
   "outputs": [],
   "source": [
    "X_numeric = X[X_numeric_columns]\n",
    "X_numeric.info()"
   ]
  },
  {
   "cell_type": "code",
   "execution_count": null,
   "metadata": {
    "hidden": true
   },
   "outputs": [],
   "source": [
    "# підключимо стандартизатор\n",
    "from sklearn.preprocessing import StandardScaler\n",
    "scaler = StandardScaler()\n",
    "_ = scaler.fit(X_numeric)"
   ]
  },
  {
   "cell_type": "code",
   "execution_count": null,
   "metadata": {
    "hidden": true
   },
   "outputs": [],
   "source": [
    "(scaler.mean_, scaler.scale_, scaler.var_)"
   ]
  },
  {
   "cell_type": "code",
   "execution_count": null,
   "metadata": {
    "hidden": true
   },
   "outputs": [],
   "source": [
    "X_numeric_scaled = pd.DataFrame(scaler.transform(X_numeric), columns=X_numeric_columns)"
   ]
  },
  {
   "cell_type": "code",
   "execution_count": null,
   "metadata": {
    "hidden": true
   },
   "outputs": [],
   "source": [
    "X_numeric_scaled.describe()"
   ]
  },
  {
   "cell_type": "markdown",
   "metadata": {
    "hidden": true
   },
   "source": [
    "### Перетворення категоріальних даних\n",
    "\n",
    "[Докладніше про стратегії кодування](https://scikit-learn.org/stable/modules/preprocessing.html#encoding-categorical-features)"
   ]
  },
  {
   "cell_type": "code",
   "execution_count": null,
   "metadata": {
    "hidden": true
   },
   "outputs": [],
   "source": [
    "categorical_selector = make_column_selector(dtype_include='O')\n",
    "X_categorical_columns = categorical_selector(X)\n",
    "X_categorical_columns"
   ]
  },
  {
   "cell_type": "code",
   "execution_count": null,
   "metadata": {
    "hidden": true
   },
   "outputs": [],
   "source": [
    "X['region'].unique()"
   ]
  },
  {
   "cell_type": "code",
   "execution_count": null,
   "metadata": {
    "hidden": true
   },
   "outputs": [],
   "source": [
    "X_categorical = X[X_categorical_columns]\n",
    "X_categorical.describe()"
   ]
  },
  {
   "cell_type": "code",
   "execution_count": null,
   "metadata": {
    "hidden": true
   },
   "outputs": [],
   "source": [
    "from sklearn.preprocessing import OneHotEncoder\n",
    "encoder = OneHotEncoder(handle_unknown='ignore', sparse=False)"
   ]
  },
  {
   "cell_type": "code",
   "execution_count": null,
   "metadata": {
    "hidden": true
   },
   "outputs": [],
   "source": [
    "_ = encoder.fit(X_categorical)"
   ]
  },
  {
   "cell_type": "code",
   "execution_count": null,
   "metadata": {
    "hidden": true
   },
   "outputs": [],
   "source": [
    "X_categorical_encoded = encoder.transform(X_categorical)\n",
    "X_categorical_encoded = pd.DataFrame(X_categorical_encoded, columns=encoder.categories_)"
   ]
  },
  {
   "cell_type": "markdown",
   "metadata": {
    "hidden": true
   },
   "source": [
    "### Об'єднати числовий та категоріальний датасети"
   ]
  },
  {
   "cell_type": "code",
   "execution_count": null,
   "metadata": {
    "hidden": true
   },
   "outputs": [],
   "source": [
    "(X_numeric_scaled.shape, X_categorical_encoded.shape)"
   ]
  },
  {
   "cell_type": "code",
   "execution_count": null,
   "metadata": {
    "hidden": true
   },
   "outputs": [],
   "source": [
    "X = pd.concat([X_numeric_scaled, X_categorical_encoded], axis=1)"
   ]
  },
  {
   "cell_type": "code",
   "execution_count": null,
   "metadata": {
    "hidden": true
   },
   "outputs": [],
   "source": [
    "X.head()"
   ]
  },
  {
   "cell_type": "markdown",
   "metadata": {
    "heading_collapsed": true
   },
   "source": [
    "## ІНДИВІДУАЛЬНЕ ЗАВДАННЯ"
   ]
  },
  {
   "cell_type": "code",
   "execution_count": null,
   "metadata": {
    "hidden": true
   },
   "outputs": [],
   "source": [
    "import warnings\n",
    "warnings.filterwarnings('ignore')"
   ]
  },
  {
   "cell_type": "markdown",
   "metadata": {
    "hidden": true
   },
   "source": [
    "<div style='background-color:lightgreen'>\n",
    "<H3 style='color:red'>Виконати процедури очищення, збагачення та нормалізації даних рієлторської компанії в файлі `aprt_properties.csv`</H3>\n",
    "<p>Н<b>а місці `...` написати свій код<b></p>\n",
    "</div>\n"
   ]
  },
  {
   "cell_type": "code",
   "execution_count": null,
   "metadata": {
    "hidden": true,
    "run_control": {
     "marked": true
    }
   },
   "outputs": [],
   "source": [
    "# імпортувати бібліотеку Pandas, NumPy \n",
    "import pandas as pd\n",
    "import numpy as np"
   ]
  },
  {
   "cell_type": "markdown",
   "metadata": {
    "hidden": true
   },
   "source": [
    "### I. Вилучення сирих даних\n",
    "\n",
    "__Примітка__: використати функцію `read_csv` з параметром `na_values=['None']` щоб згенерувати правильні типи даних"
   ]
  },
  {
   "cell_type": "code",
   "execution_count": 6,
   "metadata": {
    "hidden": true
   },
   "outputs": [
    {
     "ename": "ModuleNotFoundError",
     "evalue": "No module named 'pandas'",
     "output_type": "error",
     "traceback": [
      "\u001b[1;31m---------------------------------------------------------------------------\u001b[0m",
      "\u001b[1;31mModuleNotFoundError\u001b[0m                       Traceback (most recent call last)",
      "Input \u001b[1;32mIn [6]\u001b[0m, in \u001b[0;36m<cell line: 1>\u001b[1;34m()\u001b[0m\n\u001b[1;32m----> 1\u001b[0m \u001b[38;5;28;01mimport\u001b[39;00m \u001b[38;5;21;01mpandas\u001b[39;00m \u001b[38;5;28;01mas\u001b[39;00m \u001b[38;5;21;01mpd\u001b[39;00m\n\u001b[0;32m      2\u001b[0m \u001b[38;5;28;01mimport\u001b[39;00m \u001b[38;5;21;01mnumpy\u001b[39;00m \u001b[38;5;28;01mas\u001b[39;00m \u001b[38;5;21;01mnp\u001b[39;00m\n\u001b[0;32m      3\u001b[0m df \u001b[38;5;241m=\u001b[39m pd\u001b[38;5;241m.\u001b[39mread_csv(\u001b[38;5;124m\"\u001b[39m\u001b[38;5;124maprt_properties.csv\u001b[39m\u001b[38;5;124m\"\u001b[39m, na_values\u001b[38;5;241m=\u001b[39m[\u001b[38;5;124m'\u001b[39m\u001b[38;5;124mNone\u001b[39m\u001b[38;5;124m'\u001b[39m])\n",
      "\u001b[1;31mModuleNotFoundError\u001b[0m: No module named 'pandas'"
     ]
    }
   ],
   "source": [
    "import pandas as pd\n",
    "import numpy as np\n",
    "df = pd.read_csv(\"aprt_properties.csv\", na_values=['None'])"
   ]
  },
  {
   "cell_type": "markdown",
   "metadata": {
    "hidden": true
   },
   "source": [
    "### II. Очищення (_опціонально_)\n",
    "\n",
    "__Примітка__: на цьому етапі слід\n",
    "1. Визначитись які показчики є категоріальними або числовими\n",
    "2. При необхідності зробити перетворення типів (функція `astype`)\n",
    "3. Визначити чи є в датасеті викиди.\n",
    "4. При наявності викидів зробити їх корегування (`mean` або `median`)"
   ]
  },
  {
   "cell_type": "code",
   "execution_count": 2,
   "metadata": {
    "hidden": true
   },
   "outputs": [
    {
     "ename": "NameError",
     "evalue": "name 'pd' is not defined",
     "output_type": "error",
     "traceback": [
      "\u001b[1;31m---------------------------------------------------------------------------\u001b[0m",
      "\u001b[1;31mNameError\u001b[0m                                 Traceback (most recent call last)",
      "Input \u001b[1;32mIn [2]\u001b[0m, in \u001b[0;36m<cell line: 1>\u001b[1;34m()\u001b[0m\n\u001b[1;32m----> 1\u001b[0m df \u001b[38;5;241m=\u001b[39m \u001b[43mpd\u001b[49m\u001b[38;5;241m.\u001b[39mread_csv(\u001b[38;5;124m\"\u001b[39m\u001b[38;5;124maprt_properties.csv\u001b[39m\u001b[38;5;124m\"\u001b[39m, na_values\u001b[38;5;241m=\u001b[39m[\u001b[38;5;124m'\u001b[39m\u001b[38;5;124mNone\u001b[39m\u001b[38;5;124m'\u001b[39m])\n\u001b[0;32m      2\u001b[0m \u001b[38;5;28mprint\u001b[39m(df\u001b[38;5;241m.\u001b[39mdescribe()\u001b[38;5;241m.\u001b[39mloc[\u001b[38;5;124m'\u001b[39m\u001b[38;5;124mcount\u001b[39m\u001b[38;5;124m'\u001b[39m])\n\u001b[0;32m      4\u001b[0m mean_std \u001b[38;5;241m=\u001b[39m df\u001b[38;5;241m.\u001b[39mdescribe()\u001b[38;5;241m.\u001b[39mloc[[\u001b[38;5;124m'\u001b[39m\u001b[38;5;124mmean\u001b[39m\u001b[38;5;124m'\u001b[39m, \u001b[38;5;124m'\u001b[39m\u001b[38;5;124mstd\u001b[39m\u001b[38;5;124m'\u001b[39m]]\u001b[38;5;241m.\u001b[39mT\n",
      "\u001b[1;31mNameError\u001b[0m: name 'pd' is not defined"
     ]
    }
   ],
   "source": [
    "\n",
    "print(df.describe().loc['count'])\n",
    "\n",
    "mean_std = df.describe().loc[['mean', 'std']].T\n",
    "mean_std['std_minus_mean'] = mean_std['std'] - mean_std['mean']\n",
    "\n",
    "print(mean_std)\n",
    "print(df)\n",
    "\n",
    "for column in df[1:]:\n",
    "    if(df[column].dtypes == 'float64'):\n",
    "        df[column].fillna(value=df[column].median(), inplace=True)\n",
    "    else:\n",
    "        df[column].fillna(method='bfill', inplace=True)\n",
    "        \n",
    "df = df.astype({\"rooms\":'int32',\"levels\":'int32',\"level\":'int32',\"year\":'int32'})\n",
    "\n",
    "\n",
    "two_sigma_price = 2 * mean_std.loc['Price']['std']\n",
    "two_sigma_price_per_m2 = 2 * mean_std.loc['price_per_m2']['std']\n",
    "two_sigma_area_living = 2 * mean_std.loc['area_living']['std']\n",
    "\n",
    "print(two_sigma_price)\n",
    "print(two_sigma_price_per_m2)\n",
    "print(two_sigma_area_living)"
   ]
  },
  {
   "cell_type": "markdown",
   "metadata": {
    "hidden": true
   },
   "source": [
    "### III. Заповнення пропусків для чисельних показчиків\n",
    "\n",
    "__Примітка__: на цьому етапі слід\n",
    "\n",
    "1. Виділити датасет з чисельними показчиками використовуючи `make_column_selector`\n",
    "2. Заповнити пусті (`NaN`) значення медіанними значеннями відповідної колонки (`fillna`)"
   ]
  },
  {
   "cell_type": "code",
   "execution_count": null,
   "metadata": {
    "hidden": true
   },
   "outputs": [],
   "source": [
    "from sklearn.compose import make_column_selector\n",
    "\n",
    "fractional_columns_selector = make_column_selector(dtype_include='float64')\n",
    "target_columns_selector = make_column_selector(dtype_include='int32')\n",
    "\n",
    "df_fractional_columns = fractional_columns_selector(df)\n",
    "df_target_columns = target_columns_selector(df)\n",
    "\n",
    "ds_fractional = df[df_numeric_columns].copy(deep=False)\n",
    "ds_target = df[df_target_columns].copy(deep=False)\n",
    "\n",
    "print(ds_fractional)\n",
    "print(ds_target)\n",
    "\n",
    "for fractional_column in ds_fractional:\n",
    "    ds_fractional[fractional_column].fillna(value=ds_fractional[fractional_column].median(), inplace=True)\n",
    "\n",
    "print(ds_fractional)\n",
    "    \n",
    "for target_column in ds_target:\n",
    "    ds_target[target_column].fillna(value=ds_target[target_column].median(), inplace=True)\n",
    "\n",
    "\n",
    "print(ds_target)"
   ]
  },
  {
   "cell_type": "markdown",
   "metadata": {
    "hidden": true
   },
   "source": [
    "### IV. Масштабування чисельних показчиків\n",
    "\n",
    "__Примітка__: на цьому етапі слід побудувати змаштабований датасет `df_num_scaled` з чисельних показчиків використавші модуль __`StandardScaler`__ та його функцію `fit_transform`"
   ]
  },
  {
   "cell_type": "code",
   "execution_count": null,
   "metadata": {
    "hidden": true
   },
   "outputs": [],
   "source": [
    "\n",
    "from sklearn.preprocessing import StandardScaler\n",
    "scaler = StandardScaler()\n",
    "\n",
    "df_fractional_scaled = scaler.fit_transform(ds_fractional)\n",
    "df_target_scaled = scaler.fit_transform(ds_target)\n",
    "\n",
    "print(f\"{df_num_scaled}\\n\")\n",
    "print(f\"{df_target_scaled}\\n\")\n"
   ]
  },
  {
   "cell_type": "markdown",
   "metadata": {
    "hidden": true
   },
   "source": [
    "### V. Заповнення пропусків для категоріальних показчиків\n",
    "\n",
    "__Примітка__: на цьому етапі слід\n",
    "1. Виділити датасет з категоріальними показчиками використовуючи `make_column_selector` з параметром `dtype_include='O'`\n",
    "2. Видилити колонку `publish_date` бо вона в цьому датасеті чисто інформативна\n",
    "3. Заповнити пусті (NaN) значення найближчими (`method='ffill'` в функції `fillna`)"
   ]
  },
  {
   "cell_type": "code",
   "execution_count": 7,
   "metadata": {
    "hidden": true,
    "scrolled": true
   },
   "outputs": [
    {
     "ename": "ModuleNotFoundError",
     "evalue": "No module named 'sklearn'",
     "output_type": "error",
     "traceback": [
      "\u001b[1;31m---------------------------------------------------------------------------\u001b[0m",
      "\u001b[1;31mModuleNotFoundError\u001b[0m                       Traceback (most recent call last)",
      "Input \u001b[1;32mIn [7]\u001b[0m, in \u001b[0;36m<cell line: 1>\u001b[1;34m()\u001b[0m\n\u001b[1;32m----> 1\u001b[0m \u001b[38;5;28;01mfrom\u001b[39;00m \u001b[38;5;21;01msklearn\u001b[39;00m\u001b[38;5;21;01m.\u001b[39;00m\u001b[38;5;21;01mcompose\u001b[39;00m \u001b[38;5;28;01mimport\u001b[39;00m make_column_selector\n\u001b[0;32m      3\u001b[0m df_columns_selector \u001b[38;5;241m=\u001b[39m make_column_selector(dtype_include\u001b[38;5;241m=\u001b[39m\u001b[38;5;124m'\u001b[39m\u001b[38;5;124mO\u001b[39m\u001b[38;5;124m'\u001b[39m)\n\u001b[0;32m      4\u001b[0m df_columns \u001b[38;5;241m=\u001b[39m df_columns_selector(df)\n",
      "\u001b[1;31mModuleNotFoundError\u001b[0m: No module named 'sklearn'"
     ]
    }
   ],
   "source": [
    "from sklearn.compose import make_column_selector\n",
    "\n",
    "df_columns_selector = make_column_selector(dtype_include='O')\n",
    "df_columns = df_columns_selector(df)\n",
    "\n",
    "ds = df[df_columns].copy(deep=False)\n",
    "print(ds)\n",
    "\n",
    "ds = ds.drop(columns=['publish_date'])\n",
    "print(ds)\n",
    "\n",
    "ds['street'].fillna(method='bfill', inplace = True)\n",
    "print(ds)"
   ]
  },
  {
   "cell_type": "markdown",
   "metadata": {
    "hidden": true
   },
   "source": [
    "### VI. Кодування категориальних показчиків\n",
    "\n",
    "__Примітка__: на цьому етапі слід побудувати датасет `df_cat_encoded` використавши функцію  `fit_transform` модуля __`OneHotEncoder`__\n"
   ]
  },
  {
   "cell_type": "code",
   "execution_count": null,
   "metadata": {
    "hidden": true
   },
   "outputs": [],
   "source": [
    "from sklearn.preprocessing import OneHotEncoder\n",
    "encoder = OneHotEncoder(handle_unknown='ignore', sparse=False)"
   ]
  },
  {
   "cell_type": "code",
   "execution_count": null,
   "metadata": {
    "hidden": true
   },
   "outputs": [],
   "source": [
    "import numpy as np\n",
    "\n",
    "df_cat_encoded = encoder.fit_transform(ds)\n",
    "\n",
    "print(df_cat_encoded)"
   ]
  },
  {
   "cell_type": "markdown",
   "metadata": {
    "hidden": true
   },
   "source": [
    "### VII. Формування результатного датасету\n",
    "\n",
    "__Примітка__: на цьому етапі слід об'єднати змаштабований чисельний (`df_num_scaled`) та кодований категоріальний (`df_cat_encoded`) датасети в один результатний `df_result` використавши функцію `concat`"
   ]
  },
  {
   "cell_type": "code",
   "execution_count": 8,
   "metadata": {
    "hidden": true,
    "scrolled": true
   },
   "outputs": [
    {
     "ename": "NameError",
     "evalue": "name 'pd' is not defined",
     "output_type": "error",
     "traceback": [
      "\u001b[1;31m---------------------------------------------------------------------------\u001b[0m",
      "\u001b[1;31mNameError\u001b[0m                                 Traceback (most recent call last)",
      "Input \u001b[1;32mIn [8]\u001b[0m, in \u001b[0;36m<cell line: 1>\u001b[1;34m()\u001b[0m\n\u001b[1;32m----> 1\u001b[0m ds_fractional_scaled \u001b[38;5;241m=\u001b[39m \u001b[43mpd\u001b[49m\u001b[38;5;241m.\u001b[39mDataFrame(df_fractional_scaled)\n\u001b[0;32m      2\u001b[0m ds_target_scaled \u001b[38;5;241m=\u001b[39m pd\u001b[38;5;241m.\u001b[39mDataFrame(df_target_scaled)\n\u001b[0;32m      3\u001b[0m ds_cat_encoded \u001b[38;5;241m=\u001b[39m pd\u001b[38;5;241m.\u001b[39mDataFrame(df_cat_encoded)\n",
      "\u001b[1;31mNameError\u001b[0m: name 'pd' is not defined"
     ]
    }
   ],
   "source": [
    "ds_fractional_scaled = pd.DataFrame(df_fractional_scaled)\n",
    "ds_target_scaled = pd.DataFrame(df_target_scaled)\n",
    "ds_cat_encoded = pd.DataFrame(df_cat_encoded)\n",
    "\n",
    "print(ds_fractional_scaled)\n",
    "print(ds_target_scaled)\n",
    "print(ds_cat_encoded)\n",
    "\n",
    "df_result_frac = pd.concat([ds_fractional_scaled, ds_cat_encoded], axis=1)\n",
    "df_result_tar = pd.concat([ds_target_scaled, ds_cat_encoded], axis=1)\n",
    "\n",
    "print(df_result_frac)\n",
    "print(df_result_tar)\n"
   ]
  },
  {
   "cell_type": "code",
   "execution_count": null,
   "metadata": {},
   "outputs": [],
   "source": []
  }
 ],
 "metadata": {
  "kernelspec": {
   "display_name": "Python 3 (ipykernel)",
   "language": "python",
   "name": "python3"
  },
  "language_info": {
   "codemirror_mode": {
    "name": "ipython",
    "version": 3
   },
   "file_extension": ".py",
   "mimetype": "text/x-python",
   "name": "python",
   "nbconvert_exporter": "python",
   "pygments_lexer": "ipython3",
   "version": "3.9.12"
  },
  "varInspector": {
   "cols": {
    "lenName": 16,
    "lenType": 16,
    "lenVar": 40
   },
   "kernels_config": {
    "python": {
     "delete_cmd_postfix": "",
     "delete_cmd_prefix": "del ",
     "library": "var_list.py",
     "varRefreshCmd": "print(var_dic_list())"
    },
    "r": {
     "delete_cmd_postfix": ") ",
     "delete_cmd_prefix": "rm(",
     "library": "var_list.r",
     "varRefreshCmd": "cat(var_dic_list()) "
    }
   },
   "types_to_exclude": [
    "module",
    "function",
    "builtin_function_or_method",
    "instance",
    "_Feature"
   ],
   "window_display": false
  }
 },
 "nbformat": 4,
 "nbformat_minor": 2
}
